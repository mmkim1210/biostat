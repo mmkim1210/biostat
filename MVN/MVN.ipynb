{
 "cells": [
  {
   "cell_type": "markdown",
   "id": "a28e7db3",
   "metadata": {},
   "source": [
    "# Multivariate normal distribution "
   ]
  },
  {
   "cell_type": "markdown",
   "id": "7d07f9dd",
   "metadata": {},
   "source": [
    "Below we derive the maximum likelihood estimator (MLE) for $N_p(\\boldsymbol \\mu, \\mathbf{V})$ in three separate ways when we have a sample $\\boldsymbol y_1, \\boldsymbol y_2, \\ldots, \\boldsymbol y_n$."
   ]
  },
  {
   "cell_type": "markdown",
   "id": "f36f5208",
   "metadata": {},
   "source": [
    "$$\n",
    "\\ell (\\boldsymbol \\mu, \\mathbf{V}) = - \\frac{np}{2} \\ln 2\\pi - \\frac{n}{2} \\ln \\text{det}\\mathbf{V} - \\frac{1}{2} \\sum_{i = 1}^{n} (\\boldsymbol y_i - \\boldsymbol \\mu)^T \\mathbf{V}^{-1} (\\boldsymbol y_i - \\boldsymbol \\mu)\n",
    "$$"
   ]
  },
  {
   "cell_type": "markdown",
   "id": "aac9c685",
   "metadata": {},
   "source": [
    "### 1. Matrix derivative"
   ]
  },
  {
   "cell_type": "markdown",
   "id": "36980b74",
   "metadata": {},
   "source": [
    "$$\n",
    "\\frac{\\partial \\ell}{\\partial \\boldsymbol \\mu} = \\sum_{i = 1}^{n} \\mathbf{V}^{-1} (\\boldsymbol y_i - \\boldsymbol \\mu)\n",
    "$$"
   ]
  },
  {
   "cell_type": "markdown",
   "id": "c99f70e3",
   "metadata": {},
   "source": [
    "Since, $\\frac{\\partial^2 \\ell}{\\partial \\boldsymbol \\mu^2} \\prec 0$, $\\ell$ is maximum at $\\hat{\\boldsymbol{\\mu}} = \\bar{\\boldsymbol{y}}$."
   ]
  },
  {
   "cell_type": "markdown",
   "id": "5246f0b0",
   "metadata": {},
   "source": [
    "\\begin{eqnarray*}\n",
    "    \\text{d} \\ell &=& - \\frac{n}{2} \\text{tr}(\\mathbf{V}^{-1} \\text{d} \\mathbf{V}) + \\frac{1}{2} \\text{tr}(\\sum_{i = 1}^{n}  (\\mathbf{V}^{-1} (\\boldsymbol y_i - \\boldsymbol \\mu) (\\boldsymbol y_i - \\boldsymbol \\mu)^T \\mathbf{V}^{-1} \\text{d} \\mathbf{V}) \\\\\n",
    "    &=& \\text{tr}(- \\frac{n}{2} \\mathbf{V}^{-1} \\text{d} \\mathbf{V} + \\frac{1}{2}\\sum_{i = 1}^{n} \\mathbf{V}^{-1} (\\boldsymbol y_i - \\boldsymbol \\mu) (\\boldsymbol y_i - \\boldsymbol \\mu)^T \\mathbf{V}^{-1} \\text{d} \\mathbf{V}) \\\\\n",
    "    \\therefore \\frac{\\text{d} \\ell}{\\text{d} \\mathbf{V}} &=& - \\frac{n}{2} \\mathbf{V}^{-1} + \\frac{1}{2}\\sum_{i = 1}^{n} \\mathbf{V}^{-1} (\\boldsymbol y_i - \\boldsymbol \\mu) (\\boldsymbol y_i - \\boldsymbol \\mu)^T \\mathbf{V}^{-1}\n",
    "\\end{eqnarray*}"
   ]
  },
  {
   "cell_type": "markdown",
   "id": "00295f24",
   "metadata": {},
   "source": [
    "$\\ell$ is maximum at $\\hat{\\mathbf{V}} = \\frac{1}{n} \\sum_{i = 1}^{n}  (\\boldsymbol y_i - \\bar{\\boldsymbol{y}}) (\\boldsymbol y_i - \\bar{\\boldsymbol{y}})^T$"
   ]
  },
  {
   "cell_type": "markdown",
   "id": "28d79dba",
   "metadata": {},
   "source": [
    "### 2. Spectral decomposition"
   ]
  },
  {
   "cell_type": "markdown",
   "id": "88fc71ab",
   "metadata": {},
   "source": [
    "\\begin{eqnarray*}\n",
    "\\sum_{i = 1}^{n} (\\boldsymbol y_i - \\boldsymbol \\mu)^T \\mathbf{V}^{-1} (\\boldsymbol y_i - \\boldsymbol \\mu) &=&\n",
    "\\sum_{i = 1}^{n} (\\boldsymbol y_i - \\bar{\\boldsymbol{y}} + \\bar{\\boldsymbol{y}} - \\boldsymbol \\mu)^T \\mathbf{V}^{-1} (\\boldsymbol y_i - \\bar{\\boldsymbol{y}} + \\bar{\\boldsymbol{y}} - \\boldsymbol \\mu) \\\\\n",
    "&=& \\sum_{i = 1}^{n} (\\boldsymbol y_i - \\bar{\\boldsymbol{y}})^T \\mathbf{V}^{-1} (\\boldsymbol y_i - \\bar{\\boldsymbol{y}}) + n \\cdot (\\bar{\\boldsymbol{y}} - \\boldsymbol \\mu)^T \\mathbf{V}^{-1} (\\bar{\\boldsymbol{y}} - \\boldsymbol \\mu) \\\\\n",
    "&\\geq& \\text{tr}(\\mathbf{V}^{-1} \\sum_{i = 1}^{n}  (\\boldsymbol y_i - \\bar{\\boldsymbol{y}}) (\\boldsymbol y_i - \\bar{\\boldsymbol{y}})^T)\n",
    "\\end{eqnarray*}"
   ]
  },
  {
   "cell_type": "markdown",
   "id": "e2e10ce2",
   "metadata": {},
   "source": [
    "with equality only when $\\boldsymbol \\mu = \\hat{\\boldsymbol{\\mu}} = \\bar{\\boldsymbol{y}}$. If we let $nS^2 = \\sum_{i = 1}^{n}  (\\boldsymbol y_i - \\bar{\\boldsymbol{y}}) (\\boldsymbol y_i - \\bar{\\boldsymbol{y}})^T$,"
   ]
  },
  {
   "cell_type": "markdown",
   "id": "b61bd0ea",
   "metadata": {},
   "source": [
    "\\begin{eqnarray*}\n",
    "\\ell (\\boldsymbol \\mu, \\mathbf{V}) &=& - \\frac{np}{2} \\ln 2\\pi - \\frac{n}{2} \\ln \\text{det}\\mathbf{V} - \\frac{n}{2} \\text{tr}(\\mathbf{V}^{-1} S^2) \\\\\n",
    "&=& - \\frac{np}{2} \\ln 2\\pi - \\frac{n}{2} \\ln \\text{det}\\mathbf{V} - \\frac{n}{2} \\text{tr}(\\mathbf{V}^{-1} S^2) + \\frac{n}{2} \\ln \\text{det}S^2 - \\frac{n}{2} \\ln \\text{det}S^2 \\\\\n",
    "&=& - \\frac{np}{2} \\ln 2\\pi + \\frac{n}{2} \\ln \\text{det}(S \\mathbf{V}^{-1} S) - \\frac{n}{2} \\text{tr}(S \\mathbf{V}^{-1} S) - \\frac{n}{2} \\ln \\text{det}S^2 \\\\\n",
    "&=& - \\frac{np}{2} \\ln 2\\pi + \\frac{n}{2} \\ln(\\prod_j \\lambda_j) - \\frac{n}{2} \\sum_i \\lambda_i - \\frac{n}{2} \\ln \\text{det}S^2 \\\\\n",
    "&=& - \\frac{np}{2} \\ln 2\\pi + \\frac{n}{2} \\sum_j (\\ln \\lambda_j - \\lambda_j) - \\frac{n}{2} \\ln \\text{det}S^2, \n",
    "\\end{eqnarray*}"
   ]
  },
  {
   "cell_type": "markdown",
   "id": "81c90507",
   "metadata": {},
   "source": [
    "where $\\lambda_j$'s are eigenvalues of $S \\mathbf{V}^{-1} S$. Since $\\ln \\lambda_j - \\lambda_j$ is minimized when $\\lambda_j = 1$, $S \\mathbf{V}^{-1} S = \\mathbf{I}$ and $\\mathbf{V} = \\hat{\\mathbf{V}} = S^2 = \\frac{1}{n} \\sum_{i = 1}^{n}  (\\boldsymbol y_i - \\bar{\\boldsymbol{y}}) (\\boldsymbol y_i - \\bar{\\boldsymbol{y}})^T$. Accordingly, $\\ell$ is maximized at $- \\frac{np}{2} \\ln 2\\pi - \\frac{np}{2} - n \\ln \\text{det}S$."
   ]
  },
  {
   "cell_type": "markdown",
   "id": "fbfbc1e8",
   "metadata": {},
   "source": [
    "### 3. Cholesky decomposition"
   ]
  },
  {
   "cell_type": "markdown",
   "id": "0aa99bca",
   "metadata": {},
   "source": [
    "### 4. Miscellaneous: conditional density"
   ]
  },
  {
   "cell_type": "markdown",
   "id": "b203ba03",
   "metadata": {},
   "source": [
    "Suppose $\\mathbf{X} \\sim N(\\boldsymbol \\mu, \\boldsymbol \\Sigma)$. Then"
   ]
  },
  {
   "cell_type": "markdown",
   "id": "5b8af30a",
   "metadata": {},
   "source": [
    "$$\n",
    "\\mathbf{X}_1 \\mid \\mathbf{X}_2 \\sim N(\\boldsymbol \\mu_1 + \\boldsymbol \\Sigma_{12} \\boldsymbol \\Sigma^{-1}_{22} (\\mathbf{X}_2 - \\boldsymbol \\mu_2), \\boldsymbol \\Sigma_{11} - \\boldsymbol \\Sigma_{12} \\boldsymbol \\Sigma_{22}^{-1} \\boldsymbol \\Sigma_{21})\n",
    "$$"
   ]
  }
 ],
 "metadata": {
  "kernelspec": {
   "display_name": "Julia 1.6.0",
   "language": "julia",
   "name": "julia-1.6"
  },
  "language_info": {
   "file_extension": ".jl",
   "mimetype": "application/julia",
   "name": "julia",
   "version": "1.6.0"
  },
  "toc": {
   "base_numbering": 1,
   "nav_menu": {},
   "number_sections": false,
   "sideBar": false,
   "skip_h1_title": false,
   "title_cell": "Table of Contents",
   "title_sidebar": "Contents",
   "toc_cell": false,
   "toc_position": {
    "height": "163px",
    "left": "10px",
    "top": "150px",
    "width": "249.344px"
   },
   "toc_section_display": true,
   "toc_window_display": true
  }
 },
 "nbformat": 4,
 "nbformat_minor": 5
}
