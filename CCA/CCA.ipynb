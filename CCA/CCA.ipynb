{
 "cells": [
  {
   "cell_type": "markdown",
   "id": "81ceaf60",
   "metadata": {},
   "source": [
    "# Canonical correlation analysis"
   ]
  },
  {
   "cell_type": "markdown",
   "id": "f2a78c29",
   "metadata": {},
   "source": [
    "Suppoe $\\mathbf X, \\mathbf Y$ are vectors of random variables, where"
   ]
  },
  {
   "cell_type": "markdown",
   "id": "2ec2ba52",
   "metadata": {},
   "source": [
    "$$\n",
    "\\text{Var}\\left( \\begin{bmatrix}\\mathbf X \\\\ \\mathbf Y \\end{bmatrix} \\right) \n",
    "= \\boldsymbol \\Sigma = \n",
    "\\begin{bmatrix}\n",
    "\\boldsymbol \\Sigma_{11} & \\boldsymbol \\Sigma_{12} \\\\ \n",
    "\\boldsymbol \\Sigma_{12}^T & \\boldsymbol \\Sigma_{22} \n",
    "\\end{bmatrix},\n",
    "$$"
   ]
  },
  {
   "cell_type": "markdown",
   "id": "837387b0",
   "metadata": {},
   "source": [
    "and $\\boldsymbol \\Sigma_{11}, \\boldsymbol \\Sigma_{22}$ are positive definite matrices, and we want to remove as many dependencies as possible in $\\boldsymbol \\Sigma_{12}$."
   ]
  },
  {
   "cell_type": "markdown",
   "id": "29abc9c7",
   "metadata": {},
   "source": [
    "For any matrices $\\mathbf A, \\mathbf B$, $\\text{Var}(\\mathbf A \\mathbf X, \\mathbf B \\mathbf Y) = \\mathbf A \\boldsymbol \\Sigma_{12} \\mathbf B^T$, and we let $\\mathbf A = \\mathbf S^T \\boldsymbol \\Sigma_{11}^{-1/2}, \\mathbf B = \\mathbf T^T \\boldsymbol \\Sigma_{22}^{-1/2}$, where $\\mathbf S, \\mathbf T$ are orthonormal matrices. Then by such design, $\\text{Var}(\\mathbf A \\mathbf X) = \\mathbf{I}, \\text{Var}(\\mathbf B \\mathbf Y) = \\mathbf{I}, \\text{Var}(\\mathbf A \\mathbf X, \\mathbf B \\mathbf Y) = \\mathbf S^T \\boldsymbol \\Sigma_{11}^{-1/2} \\boldsymbol \\Sigma_{12} \\boldsymbol \\Sigma_{22}^{-1/2} \\mathbf T$."
   ]
  },
  {
   "cell_type": "markdown",
   "id": "fc9340b6",
   "metadata": {},
   "source": [
    "If we have singular value decomposition (SVD) of $\\boldsymbol \\Sigma_{11}^{-1/2} \\boldsymbol \\Sigma_{12} \\boldsymbol \\Sigma_{22}^{-1/2} = \\mathbf{U} \\mathbf{D} \\mathbf{V}^T$, where $\\mathbf{D}$ is a rectangular diagonal matrix, we can let $\\mathbf S = \\mathbf U, \\mathbf T = \\mathbf V$ such that"
   ]
  },
  {
   "cell_type": "markdown",
   "id": "e3d8e5a2",
   "metadata": {},
   "source": [
    "$$\n",
    "\\text{Var}\\left( \\begin{bmatrix} \\mathbf A \\mathbf X \\\\ \\mathbf B \\mathbf Y \\end{bmatrix} \\right) = \n",
    "\\begin{bmatrix} \n",
    "\\mathbf{I} & \\mathbf{D} \\\\ \n",
    "\\mathbf{D}^T & \\mathbf{I} \n",
    "\\end{bmatrix}.\n",
    "$$"
   ]
  }
 ],
 "metadata": {
  "kernelspec": {
   "display_name": "Julia 1.6.0",
   "language": "julia",
   "name": "julia-1.6"
  },
  "language_info": {
   "file_extension": ".jl",
   "mimetype": "application/julia",
   "name": "julia",
   "version": "1.6.0"
  }
 },
 "nbformat": 4,
 "nbformat_minor": 5
}
