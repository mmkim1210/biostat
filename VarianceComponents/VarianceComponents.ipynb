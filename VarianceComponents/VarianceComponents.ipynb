{
 "cells": [
  {
   "cell_type": "markdown",
   "metadata": {},
   "source": [
    "# Multivariate, multiple variance components linear mixed model"
   ]
  },
  {
   "cell_type": "markdown",
   "metadata": {
    "scrolled": true
   },
   "source": [
    "Here we derive a closed-form method of moments (MoM) estimator for variance components parameters in a multivariate, multiple variance components linear mixed model (LMM). This model allows us to learn about genetic covariances (or genetic correlations) in different functional annotations of SNPs (or genetic variation more broadly). Such an estimator is particularly relevant in biobank-scale data with more than 10,000 individuals, where maximum likelihood approaches (e.g. ML or REML) are computationally infeasible. "
   ]
  },
  {
   "cell_type": "markdown",
   "metadata": {},
   "source": [
    "## Multiple phenotypes measured in same individuals\n",
    "Consider a multivariate response model with an $n \\times d$ response matrix $\\mathbf{Y}$, which has no missing entries, mean $\\text{E}[\\mathbf{Y}] = \\mathbf{X}\\mathbf{B}$ and covariance\n",
    "$$\n",
    "\\mathbf{\\Omega} = \\text{Var}[\\text{vec}(\\mathbf{Y})] = \\sum_{i=1}^m \\mathbf{\\Gamma}_i \\otimes \\mathbf{A}_i.\n",
    "$$\n",
    "The $p \\times d$ coefficient matrix $\\mathbf{B}$ collects the fixed effects, the $\\mathbf{\\Gamma}_i$'s are $d \\times d$ variance components parameters, and the $\\mathbf{A}_i$'s are known $n \\times n$ covariance matrices. In the human genetics settings, these are genetic relatedness matrices (GRMs) created from corresponding sets of SNPs. By convention, it is also the case that the last variance component captures non-genetic effects such that $\\mathbf{\\Gamma}_m = \\mathbf{\\Gamma}_e$ and $\\mathbf{A}_m = \\mathbf{I}_n$. For notational ease, we ignore fixed effects in this section, assuming that $\\mathbf{B} = \\mathbf{0}$.\n",
    "\n",
    "We can get a method of moments estimator for variance component parameters ($\\mathbf{\\Gamma}_1, \\mathbf{\\Gamma}_2, \\cdots, \\mathbf{\\Gamma}_m$) by minimizing the least squares criterion\n",
    "$$\n",
    "\\min_{\\mathbf{\\Gamma}_1, \\mathbf{\\Gamma}_2, \\cdots, \\mathbf{\\Gamma}_m} \\| \\text{vec}(\\mathbf{Y}) \\text{vec}(\\mathbf{Y})^T - \\mathbf{\\Omega} \\|_\\text{F}^2.\n",
    "$$\n",
    "If we let $f = \\| \\text{vec}(\\mathbf{Y}) \\text{vec}(\\mathbf{Y})^T - \\mathbf{\\Omega} \\|_\\text{F}^2$, then\n",
    "\\begin{eqnarray*}\n",
    "f &=& \\text{tr}\\left([\\text{vec}(\\mathbf{Y}) \\text{vec}(\\mathbf{Y})^T - \\mathbf{\\Omega}]^T [\\text{vec}(\\mathbf{Y}) \\text{vec}(\\mathbf{Y})^T - \\mathbf{\\Omega}] \\right) \\\\\n",
    "&=& \\text{tr}\\left(\\text{vec}(\\mathbf{Y}) \\text{vec}(\\mathbf{Y})^T \\text{vec}(\\mathbf{Y}) \\text{vec}(\\mathbf{Y})^T - 2 \\text{vec}(\\mathbf{Y})^T \\mathbf{\\Omega}\\text{vec}(\\mathbf{Y}) + \\sum_{i = 1}^m \\mathbf{\\Gamma}_i^2 \\otimes \\mathbf{A}_i^2 + \\sum_{j \\neq i} \\sum_{i = 1}^m \\mathbf{\\Gamma}_i \\mathbf{\\Gamma}_j \\otimes \\mathbf{A}_i \\mathbf{A}_j \\right) \\\\\n",
    "&=& \\text{tr}\\left(\\text{vec}(\\mathbf{Y}) \\text{vec}(\\mathbf{Y})^T \\text{vec}(\\mathbf{Y}) \\text{vec}(\\mathbf{Y})^T - 2 \\text{vec}(\\mathbf{Y})^T \\mathbf{\\Omega}\\text{vec}(\\mathbf{Y}) \\right) + \\sum_{i = 1}^m \\text{tr}(\\mathbf{\\Gamma}_i^2) \\text{tr}(\\mathbf{A}_i^2) + \\sum_{j \\neq i} \\sum_{i = 1}^m \\text{tr}(\\mathbf{\\Gamma}_i \\mathbf{\\Gamma}_j) \\text{tr}(\\mathbf{A}_i \\mathbf{A}_j) \\\\\n",
    "\\end{eqnarray*}\n",
    "Then if we differentiate with respect to $\\mathbf{\\Gamma}_i$,\n",
    "\n",
    "\\begin{eqnarray*}\n",
    "\\text{d} f &=& -2 \\text{tr}(\\mathbf{Y}^T \\mathbf{A}_i \\mathbf{Y}\\text{d}\\mathbf{\\Gamma}_i) + 2\\sum_{j=1}^{m}\\text{tr}(\\mathbf{A}_i \\mathbf{A}_j)\\text{tr}(\\mathbf{\\Gamma}_j \\text{d}\\mathbf{\\Gamma}_i) \\\\\n",
    "\\therefore \\frac{\\partial}{\\partial \\boldsymbol{\\Gamma}_i} f &=& -2 \\mathbf{Y}^T \\mathbf{A}_i \\mathbf{Y} + 2\\sum_{j = 1}^{m} \\text{tr}(\\mathbf{A}_i \\mathbf{A}_j) \\boldsymbol{\\Gamma}_j  \\\\\n",
    "&& \\rightarrow \\sum_{j=1}^m \\text{tr}(\\mathbf{A}_i \\mathbf{A}_j) \\boldsymbol{\\Gamma}_j = \n",
    "\\mathbf{Y}^T \\mathbf{A}_i \\mathbf{Y}.\n",
    "\\end{eqnarray*}\n",
    "This leads to $m$ system of linear equations, which can be solved easily."
   ]
  },
  {
   "cell_type": "markdown",
   "metadata": {},
   "source": [
    "## Multiple phenotypes measured in partially overlapping individuals\n",
    "\n",
    "In order to derive an estimator for multivariate phenotypes that are measured in partially overlapping or non-overlapping individuals, we need to have additional indices matrices that keep track of measurements. The estimator for bivariate, two variance components model was previously used in [Wu et al. 2020](https://www.biorxiv.org/content/10.1101/525055v2)."
   ]
  },
  {
   "cell_type": "markdown",
   "metadata": {},
   "source": [
    "## Estimators in simpler models\n",
    "\n",
    "The estimator derived above boils down to the same estimators previously derived for simpler variance components linear mixed models. For example, the following estimator for multivariate, two variance components models was used in [Ge et al. 2016](https://www.nature.com/articles/ncomms13291), which is the same as the above. \n",
    " \n",
    "\\begin{eqnarray*}\n",
    "\\mathbf{\\Gamma}_g &=& \\frac{1}{\\text{tr}(\\mathbf{A}^2)n - \\text{tr}(\\mathbf{A})^2} \\mathbf{Y}^T [n \\mathbf{A} - \\text{tr}(\\mathbf{A}) \\mathbf{I}_n]\\mathbf{Y}, \\\\\n",
    "\\mathbf{\\Gamma}_e &=& \\frac{1}{\\text{tr}(\\mathbf{A}^2)n - \\text{tr}(\\mathbf{A})^2} \\mathbf{Y}^T [\\text{tr}(\\mathbf{A})^2 \\mathbf{I}_n - \\text{tr}(\\mathbf{A}) \\mathbf{A}]\\mathbf{Y}.\n",
    "\\end{eqnarray*}\n",
    "\n",
    "An estimator was previously derived in [Ge et al. 2017](https://journals.plos.org/plosgenetics/article?id=10.1371/journal.pgen.1006711) and [Wu et al. 2018](https://academic.oup.com/bioinformatics/article/34/13/i187/5045805) for univariate, two variance components models, which is also the same as above. Finally, the same estimator for univariate, multiple variance components models was derived in [Pazokitoroudi et al. 2020](https://www.nature.com/articles/s41467-020-17576-9). \n"
   ]
  },
  {
   "cell_type": "markdown",
   "metadata": {},
   "source": [
    "## Case-control status"
   ]
  },
  {
   "cell_type": "markdown",
   "metadata": {},
   "source": [
    "## Parameter inference\n",
    "\n",
    "Significance can be assessed by multiple different ways, such as sample permutation."
   ]
  },
  {
   "cell_type": "markdown",
   "metadata": {},
   "source": [
    "## Incorporating fixed effects"
   ]
  },
  {
   "cell_type": "markdown",
   "metadata": {},
   "source": [
    "## Incorporating continuous annotation "
   ]
  },
  {
   "cell_type": "markdown",
   "metadata": {},
   "source": [
    "## Future work"
   ]
  }
 ],
 "metadata": {
  "@webio": {
   "lastCommId": null,
   "lastKernelId": null
  },
  "kernelspec": {
   "display_name": "Julia 1.6.0",
   "language": "julia",
   "name": "julia-1.6"
  },
  "language_info": {
   "file_extension": ".jl",
   "mimetype": "application/julia",
   "name": "julia",
   "version": "1.6.0"
  },
  "toc": {
   "base_numbering": 1,
   "nav_menu": {
    "height": "87px",
    "width": "252px"
   },
   "number_sections": false,
   "sideBar": true,
   "skip_h1_title": true,
   "title_cell": "Table of Contents",
   "title_sidebar": "Contents",
   "toc_cell": false,
   "toc_position": {
    "height": "calc(100% - 180px)",
    "left": "10px",
    "top": "150px",
    "width": "307.188px"
   },
   "toc_section_display": true,
   "toc_window_display": false
  }
 },
 "nbformat": 4,
 "nbformat_minor": 4
}
