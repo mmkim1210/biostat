{
 "cells": [
  {
   "cell_type": "markdown",
   "id": "454f51e0",
   "metadata": {},
   "source": [
    "# Estimating hidden covariates with prior (HCP) for eQTL analyses"
   ]
  },
  {
   "cell_type": "markdown",
   "id": "93d8e8b3",
   "metadata": {},
   "source": [
    "Suppose $\\mathbf{Y} \\in \\mathbb{R}^{n\\times p}$ is a gene expression matrix with $n$ individuals and $p$ genes, $\\mathbf{Z} \\in \\mathbb{R}^{n\\times k}$ is a set of $k$ hidden covariates influencing gene expression with $\\mathbf{B} \\in \\mathbb{R}^{k \\times p}$ their corresponding effect sizes, and $\\mathbf{F} \\in \\mathbb{R}^{n\\times m}$ is a set of $m$ known covariates with $\\mathbf{U} \\in \\mathbb{R}^{m\\times k}$ capturing their relation to hidden covariates. The [the original paper](https://journals.plos.org/plosone/article?id=10.1371/journal.pone.0068141) aims to estimate $\\mathbf{Z}, \\mathbf{B}, \\mathbf{U}$ by minimizing the following objective,"
   ]
  },
  {
   "cell_type": "markdown",
   "id": "662daaeb",
   "metadata": {},
   "source": [
    "$$\n",
    "L(\\mathbf{Z}, \\mathbf{B}, \\mathbf{U}) = \\|\\mathbf{Y} - \\mathbf{Z} \\mathbf{B}\\|_{\\text{F}}^2 + \\lambda_1 \\|\\mathbf{Z} - \\mathbf{F} \\mathbf{U}\\|_{\\text{F}}^2 + \\lambda_2 \\|\\mathbf{B}\\|_{\\text{F}}^2 + \\lambda_3 \\|\\mathbf{U}\\|_{\\text{F}}^2, $$"
   ]
  },
  {
   "cell_type": "markdown",
   "id": "a0ecafb7",
   "metadata": {},
   "source": [
    "where $k, \\lambda_1, \\lambda_2, \\lambda_3$ are regularization parameters provided by the user. One can set these values using cross-validation, by evaluating the performance of the resulting residual data on a desired task. Typically, if $\\lambda_1$ > 5, then the hidden factors match closely the known covariates. "
   ]
  },
  {
   "cell_type": "markdown",
   "id": "d1a6352e",
   "metadata": {},
   "source": [
    "Given that the objective is a biconvex function, we can implement alternative interative updates by setting the matrix derivatives with respect to individual arguments to zero whil holding all others as constant. Hence, "
   ]
  },
  {
   "cell_type": "markdown",
   "id": "07997236",
   "metadata": {},
   "source": [
    "\\begin{eqnarray*}\n",
    "\\mathbf{Z}^{(t+1)} &=& (\\lambda_1 \\mathbf{F}\\mathbf{U}^{(t)} + \\mathbf{Y} \\mathbf{B}^{(t)T}) (\\mathbf{B}^{(t)}\\mathbf{B}^{(t)T} + \\lambda_1 \\mathbf{I}_k)^{-1} \\\\\n",
    "\\mathbf{B}^{(t+1)} &=& (\\mathbf{Z}^{(t+1)T} \\mathbf{Z}^{(t+1)} + \\lambda_2 \\mathbf{I}_k)^{-1} \\mathbf{Z}^{(t+1)T} \\mathbf{Y} \\\\\n",
    "\\mathbf{U}^{(t+1)} &=& (\\lambda_1 \\mathbf{F}^T \\mathbf{F} + \\lambda_3 \\mathbf{I}_m)^{-1} \\mathbf{F}^T \\mathbf{Z}^{(t+1)},\n",
    "\\end{eqnarray*}"
   ]
  },
  {
   "cell_type": "markdown",
   "id": "2fd36abf",
   "metadata": {},
   "source": [
    "where superscript $t$ indicates the iteration number. Note that the above matrix inverses exist, because they are positive definnite."
   ]
  },
  {
   "cell_type": "markdown",
   "id": "e8e8133a",
   "metadata": {},
   "source": [
    "### Implement in Julia"
   ]
  },
  {
   "cell_type": "code",
   "execution_count": 1,
   "id": "a495cc33",
   "metadata": {},
   "outputs": [],
   "source": [
    "using LinearAlgebra, Random, RCall"
   ]
  },
  {
   "cell_type": "code",
   "execution_count": 2,
   "id": "6ecfbd23",
   "metadata": {},
   "outputs": [
    {
     "data": {
      "text/plain": [
       "hcp (generic function with 1 method)"
      ]
     },
     "execution_count": 2,
     "metadata": {},
     "output_type": "execute_result"
    }
   ],
   "source": [
    "function hcp(\n",
    "        Y::Matrix{T},\n",
    "        F::Matrix{T},\n",
    "        k::Int,\n",
    "        λ₁::T,\n",
    "        λ₂::T,\n",
    "        λ₃::T;\n",
    "        maxiter::Int = 1000, \n",
    "        tol::Float64 = 1e-6\n",
    "        ) where T <: AbstractFloat\n",
    "    # set up starting point\n",
    "    n, p = size(Y)\n",
    "    m = size(F, 2)\n",
    "    Z = zeros(T, n, k)\n",
    "    B = rand(T, k, p)\n",
    "    U = zeros(T, m, k)\n",
    "    # pre-allocate arrays\n",
    "    storage_nk = Matrix{Float64}(undef, n, k)\n",
    "    storage_kk = Matrix{Float64}(undef, k, k)\n",
    "    storage_kp = Matrix{Float64}(undef, k, p)\n",
    "    storage_mm = Matrix{Float64}(undef, m, m)\n",
    "    BLAS.gemm!('T', 'N', λ₁, F, F, T(0), storage_mm)\n",
    "    for j in 1:m\n",
    "        storage_mm[j, j] += λ₃\n",
    "    end\n",
    "    LAPACK.potrf!('L', storage_mm)\n",
    "    LAPACK.potri!('L', storage_mm)\n",
    "    LinearAlgebra.copytri!(storage_mm, 'L')\n",
    "    storage_mk = Matrix{Float64}(undef, m, k)\n",
    "    # compute objective\n",
    "    L1 = copy(Y)\n",
    "    L2 = copy(Z)\n",
    "    BLAS.gemm!('N', 'N', T(-1), Z, B, T(1), L1)\n",
    "    BLAS.gemm!('N', 'N', T(-1), F, U, T(1), L2)\n",
    "    obj = abs2(norm(L1)) + λ₁ * abs2(norm(L2)) + \n",
    "        λ₂ * abs2(norm(B)) + λ₃ * abs2(norm(U))\n",
    "    # iterative steps\n",
    "    i = 1\n",
    "    for outer i in 1:maxiter\n",
    "        # update Z\n",
    "        BLAS.gemm!('N', 'N', λ₁, F, U, T(0), storage_nk)\n",
    "        BLAS.gemm!('N', 'T', T(1), Y, B, T(1), storage_nk)\n",
    "        BLAS.gemm!('N', 'T', T(1), B, B, T(0), storage_kk)\n",
    "        for j in 1:k\n",
    "            storage_kk[j, j] += λ₁\n",
    "        end\n",
    "        LAPACK.potrf!('L', storage_kk)\n",
    "        LAPACK.potri!('L', storage_kk)\n",
    "        LinearAlgebra.copytri!(storage_kk, 'L')\n",
    "        BLAS.gemm!('N', 'N', T(1), storage_nk, storage_kk, T(0), Z)\n",
    "        # update B\n",
    "        BLAS.gemm!('T', 'N', T(1), Z, Z, T(0), storage_kk)\n",
    "        for j in 1:k\n",
    "            storage_kk[j, j] += λ₂\n",
    "        end\n",
    "        BLAS.gemm!('T', 'N', T(1), Z, Y, T(0), storage_kp)\n",
    "        LAPACK.potrf!('L', storage_kk)\n",
    "        LAPACK.potrs!('L', storage_kk, storage_kp)\n",
    "        copy!(B, storage_kp)\n",
    "        # update U\n",
    "        BLAS.gemm!('T', 'N', T(1), F, Z, T(0), storage_mk)\n",
    "        BLAS.gemm!('N', 'N', T(1), storage_mm, storage_mk, T(0), U)\n",
    "        # compare objective\n",
    "        copyto!(L1, Y)\n",
    "        copyto!(L2, Z)\n",
    "        BLAS.gemm!('N', 'N', T(-1), Z, B, T(1), L1)\n",
    "        BLAS.gemm!('N', 'N', T(-1), F, U, T(1), L2)\n",
    "        newobj = abs2(norm(L1)) + λ₁ * abs2(norm(L2)) + \n",
    "        λ₂ * abs2(norm(B)) + λ₃ * abs2(norm(U))\n",
    "        if abs(newobj - obj) / (abs(obj) + 1) < tol\n",
    "            break\n",
    "        end\n",
    "        obj = newobj\n",
    "    end\n",
    "    return Z, B, U, obj, i\n",
    "end"
   ]
  },
  {
   "cell_type": "code",
   "execution_count": 3,
   "id": "da14eda2",
   "metadata": {},
   "outputs": [
    {
     "name": "stdout",
     "output_type": "stream",
     "text": [
      " 19.534391 seconds (527.23 k allocations: 413.643 MiB, 0.16% gc time, 1.00% compilation time)\n"
     ]
    },
    {
     "data": {
      "text/plain": [
       "([-0.35867907612621014 0.37592281647434855 … 0.20682640675566086 0.25516722377174306; -0.32953552442888145 0.0019339074372268616 … 0.11624162105169271 -0.24441533752786007; … ; 0.05582875372494605 -0.041143465426455014 … 0.28954199359799593 -0.1740687800975141; -0.38873858445916076 -0.11566986336381858 … -0.05388415896694071 -0.0832239017024325], [-0.2126723620471438 0.10530072255638963 … 0.08663131749792738 -0.012366209859764901; 0.2688657317038759 0.11209726126268842 … -0.24041858866928387 0.15942317441520656; … ; 0.1176479975975411 0.15404059310969465 … -0.06741951549923031 -0.3087474126162104; 0.0737962755369853 -0.050712807087285566 … -0.14488283389360299 0.1342095195394703], [0.0009579509666962903 4.81789981739273e-5 … 0.0012769142378248567 -0.0006668161762021437; 0.0011024648218550105 -0.00087285437873093 … 0.0008709713158047769 0.0011214313631533143; … ; 9.299626561307413e-5 0.0006577731148752081 … 0.0018525946744075293 -0.0008532792361416287; -0.0004565515720252119 0.0016860606949568218 … -0.0014542073333703562 -0.00047663621388663877], 4.646819959713726e7, 92)"
      ]
     },
     "execution_count": 3,
     "metadata": {},
     "output_type": "execute_result"
    }
   ],
   "source": [
    "Random.seed!(1234)\n",
    "Y = randn(1864, 25774)\n",
    "F = randn(1864, 30)\n",
    "k = 40\n",
    "λ₁ = 5.0\n",
    "λ₂ = 1.0\n",
    "λ₃ = 1.0\n",
    "@time Z, B, U, obj, i = hcp(Y, F, k, λ₁, λ₂, λ₃)"
   ]
  },
  {
   "cell_type": "markdown",
   "id": "6fd5648f",
   "metadata": {},
   "source": [
    "### Implement in R"
   ]
  },
  {
   "cell_type": "markdown",
   "id": "3cf189f1",
   "metadata": {},
   "source": [
    "The following code is similar to the ones found in [this GitHub repo](https://github.com/mvaniterson/Rhcpp)."
   ]
  },
  {
   "cell_type": "code",
   "execution_count": 4,
   "id": "f9c25128",
   "metadata": {},
   "outputs": [
    {
     "data": {
      "text/plain": [
       "RObject{ClosSxp}\n",
       "function (F, Y, k, lambda1, lambda2, lambda3, iter) \n",
       "{\n",
       "    library(MASS)\n",
       "    library(pracma)\n",
       "    tol <- 1e-06\n",
       "    U <- matrix(0, nrow = dim(F)[2], k)\n",
       "    Z <- matrix(0, nrow = dim(F)[1], k)\n",
       "    B <- matrix(runif(dim(Z)[2] * dim(Y)[2]), nrow = dim(Z)[2], \n",
       "        ncol = dim(Y)[2])\n",
       "    F <- as.matrix(F)\n",
       "    n1 <- dim(F)[1]\n",
       "    d1 <- dim(F)[2]\n",
       "    n2 <- dim(Y)[1]\n",
       "    d2 <- dim(Y)[2]\n",
       "    if (n1 != n2) {\n",
       "        stop(\"number of rows in F and Y must agree\")\n",
       "    }\n",
       "    if (k < 1 | lambda1 < 1e-06 | lambda2 < 1e-06 | lambda3 < \n",
       "        1e-06) {\n",
       "        stop(\"lambda1, lambda2, lambda3 must be positive and/or k must be an integer\")\n",
       "    }\n",
       "    o <- vector(length = iter)\n",
       "    for (ii in 1:iter) {\n",
       "        o[ii] <- sum((Y - Z %*% B)^2) + lambda1 * sum((Z - F %*% \n",
       "            U)^2) + lambda2 * (sum(B^2)) + lambda3 * (sum(U^2))\n",
       "        Z <- (Y %*% t(B) + lambda1 * F %*% U) %*% ginv(B %*% \n",
       "            t(B) + lambda1 * diag(dim(B)[1]))\n",
       "        B <- mldivide(t(Z) %*% Z + lambda2 * diag(dim(Z)[2]), \n",
       "            (t(Z) %*% Y))\n",
       "        U <- mldivide(t(F) %*% F * lambda1 + lambda3 * diag(dim(U)[1]), \n",
       "            lambda1 * t(F) %*% Z)\n",
       "        if (ii > 1 && (abs(o[ii] - o[ii - 1])/abs(o[ii] + 1)) < \n",
       "            tol) {\n",
       "            break\n",
       "        }\n",
       "    }\n",
       "    dataout <- list(Z = Z, B = B, U = U, obj = o, i = ii)\n",
       "    return(dataout)\n",
       "}\n"
      ]
     },
     "execution_count": 4,
     "metadata": {},
     "output_type": "execute_result"
    }
   ],
   "source": [
    "R\"\"\"\n",
    "EstimateHCP <- function(F, Y, k, lambda1, lambda2, lambda3, iter) {\n",
    "  # input:\n",
    "  #      F: a matrix n x m of known covariates, where n = number of subjects and m = number of known covariates. \n",
    "  #      * must be standardized (columns have 0 mean and constant sd)\n",
    "  #      Y: a matrix n x p of expression data\n",
    "  #      * must be standardized (columns have 0 mean and constant sd)\n",
    "  #      k: number of inferred hidden covariates (k is an integer)\n",
    "  #      lambda1, lambda2, lambda3 are model parameters\n",
    "  #      (optional) iter: number of iterations (default = 1000)\n",
    "  # output:\n",
    "  #      Z: matrix of hidden covariates, dimension: n x k\n",
    "  #      B: effect size of hidden covariates, dimension: k x p\n",
    "  #      o: value of objective function on consecutive iterations\n",
    "  \n",
    "  library(MASS)\n",
    "  library(pracma)\n",
    "  tol <- 1e-6\n",
    "  U <- matrix(0, nrow = dim(F)[2], k)\n",
    "  Z <- matrix(0, nrow = dim(F)[1], k)\n",
    "  B <- matrix(runif(dim(Z)[2] * dim(Y)[2]), nrow = dim(Z)[2], ncol = dim(Y)[2])\n",
    "  F <- as.matrix(F)\n",
    "  n1 <- dim(F)[1]\n",
    "  d1 <- dim(F)[2]\n",
    "  n2 <- dim(Y)[1]\n",
    "  d2 <- dim(Y)[2]\n",
    "  \n",
    "  if(n1 != n2) {\n",
    "    stop(\"number of rows in F and Y must agree\")\n",
    "  }\n",
    "  if (k < 1 | lambda1 < 1e-6 | lambda2 < 1e-6 | lambda3 < 1e-6 ) {\n",
    "    stop(\"lambda1, lambda2, lambda3 must be positive and/or k must be an integer\")\n",
    "  }\n",
    "  \n",
    "  o <- vector(length = iter)\n",
    "  for (ii in 1:iter) {\n",
    "    o[ii] <- sum((Y - Z %*% B)^2) + lambda1 * sum((Z - F %*% U)^2) + lambda2 * (sum(B^2)) + lambda3 * (sum(U^2))\n",
    "    Z <- (Y %*% t(B) + lambda1 * F %*% U) %*% ginv(B %*% t(B) + lambda1 * diag(dim(B)[1]))\n",
    "    B <- mldivide(t(Z) %*% Z + lambda2 * diag(dim(Z)[2]), (t(Z) %*% Y))\n",
    "    U <- mldivide(t(F) %*% F * lambda1 + lambda3 * diag(dim(U)[1]), lambda1 * t(F) %*% Z)\n",
    "    if (ii > 1 && (abs(o[ii] - o[ii - 1]) / abs(o[ii] + 1)) < tol) {\n",
    "      break\n",
    "    }\n",
    "  }\n",
    "  dataout <- list(Z = Z, B = B, U = U, obj = o, i = ii)\n",
    "  return(dataout)\n",
    "}\n",
    "\"\"\""
   ]
  },
  {
   "cell_type": "code",
   "execution_count": 5,
   "id": "314442ac",
   "metadata": {
    "scrolled": true
   },
   "outputs": [
    {
     "name": "stderr",
     "output_type": "stream",
     "text": [
      "┌ Warning: RCall.jl: Warning: package ‘MASS’ was built under R version 4.0.2\n",
      "│ Warning: package ‘pracma’ was built under R version 4.0.2\n",
      "└ @ RCall /Users/minsookim/.julia/packages/RCall/eRsxl/src/io.jl:160\n"
     ]
    },
    {
     "data": {
      "text/plain": [
       "RObject{RealSxp}\n",
       "   user  system elapsed \n",
       "400.809   2.511 404.486 \n"
      ]
     },
     "execution_count": 5,
     "metadata": {},
     "output_type": "execute_result"
    }
   ],
   "source": [
    "R\"\"\"\n",
    "system.time(EstimateHCP(F = $F, Y = $Y, lambda1 = 5, lambda2 = 1, lambda3 = 1, k = 40, iter = 1000))\n",
    "\"\"\""
   ]
  },
  {
   "cell_type": "markdown",
   "id": "e1e5b26a",
   "metadata": {},
   "source": [
    "Although `Julia` and `R` implementations give highly similar results (minor difference due to random initial starting point for $\\mathbf{B}$), there is ~20 fold difference in runtime for a data matrix of size $1864 \\times 25774$."
   ]
  },
  {
   "cell_type": "markdown",
   "id": "7227e84a",
   "metadata": {},
   "source": [
    "# Other methods for estimating latent factors"
   ]
  },
  {
   "cell_type": "markdown",
   "id": "6390df32",
   "metadata": {},
   "source": [
    "### [Surrogate variables](https://www.ncbi.nlm.nih.gov/pmc/articles/PMC1994707/)"
   ]
  },
  {
   "cell_type": "markdown",
   "id": "0edc41e9",
   "metadata": {},
   "source": [
    "### [Combat](https://academic.oup.com/biostatistics/article/8/1/118/252073)"
   ]
  },
  {
   "cell_type": "markdown",
   "id": "c5e43218",
   "metadata": {},
   "source": [
    "### [PEER](https://www.ncbi.nlm.nih.gov/pmc/articles/PMC2865505/)"
   ]
  },
  {
   "cell_type": "markdown",
   "id": "abc99310",
   "metadata": {},
   "source": [
    "[Other examples](https://bmcbioinformatics.biomedcentral.com/articles/10.1186/1471-2105-12-290) ... TODO"
   ]
  },
  {
   "cell_type": "code",
   "execution_count": 6,
   "id": "2584371c",
   "metadata": {},
   "outputs": [
    {
     "name": "stdout",
     "output_type": "stream",
     "text": [
      "Julia Version 1.6.0\n",
      "Commit f9720dc2eb (2021-03-24 12:55 UTC)\n",
      "Platform Info:\n",
      "  OS: macOS (x86_64-apple-darwin19.6.0)\n",
      "  CPU: Intel(R) Core(TM) i9-9880H CPU @ 2.30GHz\n",
      "  WORD_SIZE: 64\n",
      "  LIBM: libopenlibm\n",
      "  LLVM: libLLVM-11.0.1 (ORCJIT, skylake)\n"
     ]
    }
   ],
   "source": [
    "versioninfo()"
   ]
  }
 ],
 "metadata": {
  "kernelspec": {
   "display_name": "Julia 1.6.0",
   "language": "julia",
   "name": "julia-1.6"
  },
  "language_info": {
   "file_extension": ".jl",
   "mimetype": "application/julia",
   "name": "julia",
   "version": "1.6.0"
  },
  "toc": {
   "base_numbering": 1,
   "nav_menu": {},
   "number_sections": false,
   "sideBar": true,
   "skip_h1_title": false,
   "title_cell": "Table of Contents",
   "title_sidebar": "Contents",
   "toc_cell": false,
   "toc_position": {},
   "toc_section_display": true,
   "toc_window_display": false
  }
 },
 "nbformat": 4,
 "nbformat_minor": 5
}
