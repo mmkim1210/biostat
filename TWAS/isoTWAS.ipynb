{
 "cells": [
  {
   "cell_type": "markdown",
   "id": "99a1aff1",
   "metadata": {},
   "source": [
    "# Isoform-level transcriptome-wide association studies (TWAS)\n",
    "\n",
    "Here, we build a multivariate response model, where expression of multiple isoforms for a given gene are modeled together, taking into account the covariation among isoform expression arising from genetic, biological, and technical factors. In the human brain, there are on average on four isoforms expressed per gene. We are ultimately interested in jointly estimating the effects of genetic variation (e.g. SNPs) on such isoform-level expression."
   ]
  },
  {
   "cell_type": "markdown",
   "id": "5311e338",
   "metadata": {},
   "source": [
    "## 1. Univariate response model\n",
    "\n",
    "We begin by focusing on one isoform at a time. Consider the following linear model, \n",
    "$$\n",
    "\\mathbf{y} = \\mu \\mathbf{1}_n + \\mathbf{X} \\boldsymbol\\beta + \\boldsymbol\\tau + \\boldsymbol\\epsilon , \\quad \\boldsymbol\\tau \\sim N(\\mathbf{0}_n, \\sigma_{\\tau}^2 \\mathbf{I}_n), \\quad \\boldsymbol\\epsilon \\sim N(\\mathbf{0}_n, \\sigma_{\\epsilon}^2 \\mathbf{I}_n)\n",
    "$$\n",
    "where $\\mathbf{y}$ is a $n \\times 1$ vector of an isoform expression taken from $n$ individuals, $\\mathbf{1}_n$ is a $n \\times 1$ vector of $1$'s with $\\mu$ being a scalar for the intercept term, $\\mathbf{X}$ is a column-scaled $n \\times p$ design matrix of $p$ genome-wide SNPs, and $\\boldsymbol\\tau$ and $\\boldsymbol\\epsilon$ are jointly independent. Of note, $\\sigma_{\\tau}^2$ captures technical variability from measurement error in isoform quantification, while $\\sigma_{\\epsilon}^2$ captures biological variation due to any non-genetic factors. Here, we assume that $\\mathbf{y}$ has already been residualized for other relevant biological and technical factors, such as age, sex, and RIN. \n",
    "\n",
    "### 1.1 Estimation of $\\sigma_{\\tau}^2$\n",
    "Although $\\sigma_{\\tau}^2$ and $\\sigma_{\\epsilon}^2$ are non-identifiable jointly, $\\sigma_{\\tau}^2$ can be estimated by making use of [bootstrap quantifications](https://static-content.springer.com/esm/art%3A10.1038%2Fnmeth.4324/MediaObjects/41592_2017_BFnmeth4324_MOESM1_ESM.pdf) for each individual. Consider the classic balanced one-way ANOVA fixed effects model with $n$ levels (i.e. individuals) and $q$ observations (i.e. bootstrap quantifications) in each level,\n",
    "$$\n",
    "y_{ik} = \\mu + \\alpha_i + \\tau_{ik}, \\quad i=1,\\ldots,n, \\quad k=1,\\ldots,q,\n",
    "$$\n",
    "where $\\tau_{ik}$ are iid from $N(0, \\sigma_{\\tau}^2)$. In this model, each individual $i$ has mean expression $\\mu + \\alpha_i$ with technical noise from $\\tau_{ik}$. From ANOVA or equivalent linear regression, we know that an unbiased estimator of $\\sigma_{\\tau}^2$ is $\\frac{\\text{SSE}}{n(q - 1)}$, which we denote as $\\hat \\sigma_{\\tau}^2$.\n",
    "\n",
    "### 1.2 Estimation of SNP-based $h^2$\n",
    "As $p \\gg n$, we can let $\\boldsymbol\\beta$ be random effects, where $\\boldsymbol\\beta \\sim N(\\mathbf{0}_p, \\frac{\\sigma_g^2}{p} \\mathbf{I}_p)$ and $\\boldsymbol\\beta$, $\\boldsymbol\\tau$, and $\\boldsymbol\\epsilon$ are jointly independent. Then $\\mathbf{y} \\sim N(\\mu \\mathbf{1}_n, \\sigma_g^2 \\mathbf{A} + (\\hat \\sigma_{\\tau}^2 + \\sigma_\\epsilon^2) \\mathbf{I})$, where $\\mathbf{A} = \\frac{1}{p} \\mathbf{X}\\mathbf{X}^T$. Parameters for such a variance component linear mixed model can be estimated using MLE or REML, which can be subsequently plugged into $\\sigma_g^2/(\\sigma_g^2 + \\hat \\sigma_{\\tau}^2 + \\sigma_\\epsilon^2)$ to estimate SNP-based $h^2$. However, the assumption of identical distribution of effect size for $\\boldsymbol\\beta$ is unrealistic, since variants in the vicinity of a given isoform, such as those in the promoter or enhancer region, tend to exert larger effects on expression. In practice, we can partition the vector $\\boldsymbol\\beta = [\\boldsymbol\\beta_{\\text{cis}} \\ \\boldsymbol\\beta_{\\text{trans}}]^T$ and let $\\boldsymbol\\beta_{\\text{cis}} \\sim N(\\mathbf{0}_{p_1}, \\frac{\\sigma_{g,\\text{cis}}^2}{p_1} \\mathbf{I}_{p_1})$ and $\\boldsymbol\\beta_{\\text{trans}} \\sim N(\\mathbf{0}_{p_2}, \\frac{\\sigma_{g,\\text{trans}}^2}{p_2} \\mathbf{I}_{p_2})$, where $p_1 + p_2 = p$ and $\\boldsymbol\\beta_{\\text{cis}}$, $\\boldsymbol\\beta_{\\text{trans}}$, $\\boldsymbol\\tau$, and $\\boldsymbol\\epsilon$ are jointly independent. Then $\\mathbf{y} \\sim N(\\mu \\mathbf{1}_n, \\sigma_{g,\\text{cis}}^2 \\mathbf{A}_\\text{cis} + \\sigma_{g,\\text{trans}}^2 \\mathbf{A}_\\text{trans} + (\\hat \\sigma_{\\tau}^2 + \\sigma_\\epsilon^2) \\mathbf{I})$, where $\\mathbf{A}_\\text{cis} = \\frac{1}{p_1} \\mathbf{X}_\\text{cis} \\mathbf{X}_\\text{cis}^T$ and $\\mathbf{A}_\\text{trans} = \\frac{1}{p_2} \\mathbf{X}_\\text{trans} \\mathbf{X}_\\text{trans}^T$. This model has three variance components and can be similarly estimated using MLE or REML. \n",
    "\n",
    "### 1.3 Estimation of $\\boldsymbol\\beta$\n",
    "Effect size for top SNP eQTL, BLUP, BSLMM, Elastic Net, Lasso [FUSION](http://gusevlab.org/projects/fusion/)\n",
    "\n",
    "\n",
    "### 1.4 Calculation of TWAS z-score "
   ]
  },
  {
   "cell_type": "markdown",
   "id": "5c94718d",
   "metadata": {},
   "source": [
    "## 2. Multivariate response model\n",
    "Consider the classic balanced one-way ANOVA fixed effects model with $n$ levels (i.e. individuals) and $p$ observations (i.e. bootstrap quantifications) in each level,\n",
    "We can try to model all isoforms together, using one-way MANOVA. By running MANOVA, we can obtain an unbiased estimate of covariance in isoform expression from technical or measurement error. Let this be $\\hat{\\Sigma}_\\tau$."
   ]
  },
  {
   "cell_type": "markdown",
   "id": "bf8be949",
   "metadata": {},
   "source": [
    "$$\n",
    "\\text{vec}(\\mathbf{y}) =\n",
    "\\begin{bmatrix}\n",
    "\\mathbf{y}_{*1} \\\\ \n",
    "\\mathbf{y}_{*2} \\\\  \n",
    "\\vdots \\\\\n",
    "\\mathbf{y}_{*m}\n",
    "\\end{bmatrix}\n",
    "\\sim \n",
    "N(\\mathbf{1}_m \\otimes \\mathbf{X}{\\boldsymbol{\\beta}}, [\\hat{\\Sigma}_\\tau + \\Sigma_\\epsilon] \\otimes \\mathbf{I}_n).\n",
    "$$"
   ]
  },
  {
   "cell_type": "markdown",
   "id": "d801f641",
   "metadata": {},
   "source": [
    "### Questions\n",
    "+ How to regularize and estimate the effects $\\boldsymbol{\\beta}$ or $\\mathbf{B}$?\n",
    "+ Is there a well-established statistical package that could help us estimate the effects? I expect that we might need to reinvent some parts of the wheels (e.g. `for` loops in `Rcpp` and optimization)"
   ]
  }
 ],
 "metadata": {
  "kernelspec": {
   "display_name": "Julia 1.6.0",
   "language": "julia",
   "name": "julia-1.6"
  },
  "language_info": {
   "file_extension": ".jl",
   "mimetype": "application/julia",
   "name": "julia",
   "version": "1.6.0"
  },
  "toc": {
   "base_numbering": 1,
   "nav_menu": {},
   "number_sections": false,
   "sideBar": true,
   "skip_h1_title": false,
   "title_cell": "Table of Contents",
   "title_sidebar": "Contents",
   "toc_cell": false,
   "toc_position": {},
   "toc_section_display": true,
   "toc_window_display": false
  }
 },
 "nbformat": 4,
 "nbformat_minor": 5
}
