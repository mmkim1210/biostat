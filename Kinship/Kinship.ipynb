{
 "cells": [
  {
   "cell_type": "markdown",
   "metadata": {},
   "source": [
    "# Kinship coefficient"
   ]
  },
  {
   "cell_type": "markdown",
   "metadata": {},
   "source": [
    "Suppose $\\mathbf{X}$ is an $n \\times m$ genotype matrix, where $n$ is the number of individuals and $m$ is the number of genetic markers. [Lange et al.](https://www.ncbi.nlm.nih.gov/pmc/articles/PMC4062304/) derived a method of moment estimator of of $n \\times n$ kinship matrix $\\Phi$ such that"
   ]
  },
  {
   "cell_type": "markdown",
   "metadata": {},
   "source": [
    "$$\n",
    "\\widehat \\Phi_{ij} = \\frac{e_{ij} - \\sum_{k=1}^m [p_k^2 + (1 - p_k)^2]}{m - \\sum_{k=1}^m [p_k^2 + (1 - p_k)^2]}, \\quad 1 \\le i, j \\le n,\n",
    "$$"
   ]
  },
  {
   "cell_type": "markdown",
   "metadata": {},
   "source": [
    "$$\n",
    "\\begin{eqnarray*}\n",
    "    e_{ij} &=& \\frac{1}{4} \\sum_{k=1}^m [x_{ik} x_{jk} + (2 - x_{ik})(2 - x_{jk})] \\\\\n",
    "    p_k &=& \\frac {1}{2n} \\sum_{i=1}^n x_{ik}.\n",
    "\\end{eqnarray*}\n",
    "$$"
   ]
  },
  {
   "cell_type": "markdown",
   "metadata": {},
   "source": [
    "### Implementation"
   ]
  },
  {
   "cell_type": "code",
   "execution_count": 1,
   "metadata": {},
   "outputs": [
    {
     "data": {
      "text/plain": [
       "kinship (generic function with 1 method)"
      ]
     },
     "execution_count": 1,
     "metadata": {},
     "output_type": "execute_result"
    }
   ],
   "source": [
    "function kinship(X::Matrix{Float64})\n",
    "    # get dimension\n",
    "    n = size(X, 1)\n",
    "    m = size(X, 2)    \n",
    "    # pre-allocate memory\n",
    "    Φ = Matrix{Float64}(undef, n, n)\n",
    "    # compute allele frequency\n",
    "    p = vec(sum(X, dims = 1) ./ (2 * n))\n",
    "    # compute sum of square terms\n",
    "    ss = 2 * dot(p, p) - 2 * sum(p) + m\n",
    "    # compute row sum\n",
    "    x = vec(sum(X, dims = 2))\n",
    "    # compute Φ\n",
    "    BLAS.syrk!('L', 'N', 0.5, X, 0.0, Φ)\n",
    "    for i in 1:n\n",
    "        for j in i:n\n",
    "            Φ[j, i] = (Φ[j, i] + m - 0.5 * (x[i] + x[j]) - ss) / (m - ss)\n",
    "            Φ[i, j] = Φ[j, i]\n",
    "        end\n",
    "    end    \n",
    "    return Φ\n",
    "end"
   ]
  },
  {
   "cell_type": "code",
   "execution_count": 2,
   "metadata": {},
   "outputs": [],
   "source": [
    "using BenchmarkTools, LinearAlgebra, Random\n",
    "Random.seed!(1234)\n",
    "X = rand(0.0:2.0, 1000, 10000);"
   ]
  },
  {
   "cell_type": "code",
   "execution_count": 3,
   "metadata": {
    "scrolled": true
   },
   "outputs": [
    {
     "name": "stdout",
     "output_type": "stream",
     "text": [
      "  0.054336 seconds (15 allocations: 7.790 MiB)\n"
     ]
    },
    {
     "data": {
      "text/plain": [
       "BenchmarkTools.Trial: \n",
       "  memory estimate:  7.79 MiB\n",
       "  allocs estimate:  15\n",
       "  --------------\n",
       "  minimum time:     48.264 ms (0.00% GC)\n",
       "  median time:      52.353 ms (0.00% GC)\n",
       "  mean time:        53.114 ms (1.61% GC)\n",
       "  maximum time:     63.663 ms (12.17% GC)\n",
       "  --------------\n",
       "  samples:          95\n",
       "  evals/sample:     1"
      ]
     },
     "execution_count": 3,
     "metadata": {},
     "output_type": "execute_result"
    }
   ],
   "source": [
    "@time kinship(X)\n",
    "@benchmark kinship(X)"
   ]
  },
  {
   "cell_type": "markdown",
   "metadata": {},
   "source": [
    "### Alternative kinship matrix"
   ]
  },
  {
   "cell_type": "markdown",
   "metadata": {},
   "source": [
    "Genomic relationship matrix (GRM) can be also estimated as "
   ]
  },
  {
   "cell_type": "markdown",
   "metadata": {},
   "source": [
    "$$\n",
    "\\widehat \\Phi_{ij} = \\frac{1}{2m} \\sum_{k=1}^m \\frac{(x_{ik} - 2p_k)(x_{jk} - 2p_k)}{2p_k(1-p_k)}\n",
    "$$"
   ]
  }
 ],
 "metadata": {
  "kernelspec": {
   "display_name": "Julia 1.6.0",
   "language": "julia",
   "name": "julia-1.6"
  },
  "language_info": {
   "file_extension": ".jl",
   "mimetype": "application/julia",
   "name": "julia",
   "version": "1.6.0"
  },
  "toc": {
   "base_numbering": 1,
   "nav_menu": {
    "height": "87px",
    "width": "252px"
   },
   "number_sections": false,
   "sideBar": true,
   "skip_h1_title": false,
   "title_cell": "Table of Contents",
   "title_sidebar": "Contents",
   "toc_cell": false,
   "toc_position": {},
   "toc_section_display": "block",
   "toc_window_display": true
  }
 },
 "nbformat": 4,
 "nbformat_minor": 2
}
