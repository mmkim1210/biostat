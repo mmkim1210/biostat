{
 "cells": [
  {
   "cell_type": "markdown",
   "id": "e954a48f",
   "metadata": {},
   "source": [
    "# Bayes Factor\n",
    "\n",
    "[Bayes factor](https://academic.oup.com/ije/article/37/3/641/742885) can be used as an alternative to $p$-value for assessing significance. Here we go over [asymptotic Bayes factor](https://onlinelibrary.wiley.com/doi/abs/10.1002/gepi.20359) (ABF) for ranking associations from genome-wide association studies (GWAS). When exactly one causal variant is assumed within a given genomic region, ABF works well for prioritizing variants (i.e. fine-mapping). With more than two causal variants, however, more sophisticated Bayesian models are needed. The derivation of ABF is based on asymptotic properties of maximum likelihood estimator (MLE)."
   ]
  },
  {
   "cell_type": "markdown",
   "id": "e9b56db3",
   "metadata": {},
   "source": [
    "### Derivation"
   ]
  },
  {
   "cell_type": "markdown",
   "id": "366e197e",
   "metadata": {},
   "source": [
    "Bayes factor is the ratio of likelihood of data under two different models. For SNP $j$, the null model is that $\\beta_j = 0$, while the alternative model is that $\\beta_j \\sim N(0, \\sigma_b^2)$."
   ]
  },
  {
   "cell_type": "markdown",
   "id": "e82dc0d7",
   "metadata": {},
   "source": [
    "$$\n",
    "\\text{BF}_j = \\frac{p(\\mathbf{y} \\mid H_1)}{p(\\mathbf{y} \\mid H_0)}\n",
    "$$"
   ]
  },
  {
   "cell_type": "markdown",
   "id": "a2892270",
   "metadata": {},
   "source": [
    "In case-control design, in which phenotype is the disease status, logistic regression can be applied."
   ]
  },
  {
   "cell_type": "markdown",
   "id": "a70a5bd8",
   "metadata": {},
   "source": [
    "$$\n",
    "\\frac{p_i}{1 - p_i} = e^{\\boldsymbol{b}_i^T \\boldsymbol{\\alpha} + x_{ij} \\beta_j},\n",
    "$$"
   ]
  },
  {
   "cell_type": "markdown",
   "id": "40b61535",
   "metadata": {},
   "source": [
    "where $\\boldsymbol{b}_i \\in \\mathbb{R}^{p\\text{x}1}$ is a vector of covariates for individual $i$, $\\boldsymbol{\\alpha} \\in \\mathbb{R}^{p\\text{x}1}$ is a vector of corresponding parameters, $x_{ij}$ is the genotype of individual $i$ at SNP $j$, and $\\beta_j$ its corresponding effect size. Then the MLE of these $p+1$ parameters is asymptotically distributed as:"
   ]
  },
  {
   "cell_type": "markdown",
   "id": "4abfb16e",
   "metadata": {},
   "source": [
    "$$\n",
    "\\begin{bmatrix} \n",
    "\\widehat{\\boldsymbol{\\alpha}} \\\\\n",
    "\\widehat{\\beta}_j \\end{bmatrix} \n",
    "\\sim N_{p+1} \n",
    "\\left(\n",
    "\\begin{bmatrix} \n",
    "\\boldsymbol{\\alpha} \\\\\n",
    "\\beta_j \n",
    "\\end{bmatrix}, \n",
    "\\begin{bmatrix} \n",
    "\\boldsymbol{I}_{00} & \\boldsymbol{I}_{01} \\\\\n",
    "\\boldsymbol{I}_{01}^T & I_{11} \\end{bmatrix}^{-1} \\right),\n",
    "$$"
   ]
  },
  {
   "cell_type": "markdown",
   "id": "312f7a0e",
   "metadata": {},
   "source": [
    "where $\\boldsymbol{I}_{00} \\in \\mathbb{R}^{p\\text{x}p}$ is the expected Fisher information concering $\\boldsymbol{\\alpha}$ and $I_{11}$ is the expected information concerning $\\beta_j$. In order to remove $\\boldsymbol{I}_{01} \\in \\mathbb{R}^{p\\text{x}1}$, we reparameterize the model as,"
   ]
  },
  {
   "cell_type": "markdown",
   "id": "c44f91ea",
   "metadata": {},
   "source": [
    "$$\n",
    "\\begin{bmatrix} \n",
    "\\widehat{\\boldsymbol{\\gamma}} \\\\\n",
    "\\widehat{\\beta}_j \\end{bmatrix} =\n",
    "\\begin{bmatrix} \n",
    "\\mathbf{I}_{p \\times p} & \\boldsymbol{I}_{00}^{-1}\\boldsymbol{I}_{01} \\\\\n",
    "\\mathbf{0}_{1 \\times p}^T & 1 \n",
    "\\end{bmatrix} \n",
    "\\begin{bmatrix} \n",
    "\\widehat{\\boldsymbol{\\alpha}} \\\\\n",
    "\\widehat{\\beta}_j \\end{bmatrix} \n",
    "$$"
   ]
  },
  {
   "cell_type": "markdown",
   "id": "58f16fd6",
   "metadata": {},
   "source": [
    "such that"
   ]
  },
  {
   "cell_type": "markdown",
   "id": "eded7733",
   "metadata": {},
   "source": [
    "$$\n",
    "\\begin{bmatrix} \n",
    "\\widehat{\\boldsymbol{\\gamma}} \\\\\n",
    "\\widehat{\\beta}_j \\end{bmatrix} \n",
    "\\sim N_{p+1} \n",
    "\\left(\n",
    "\\begin{bmatrix} \n",
    "\\boldsymbol{\\gamma} \\\\\n",
    "\\beta_j \n",
    "\\end{bmatrix}, \n",
    "\\begin{bmatrix} \n",
    "\\boldsymbol{I}_{00}^* & \\boldsymbol{0}_{p \\times 1} \\\\\n",
    "\\boldsymbol{0}^T_{1 \\times p} & I_{11} \\end{bmatrix}^{-1} \\right).\n",
    "$$"
   ]
  },
  {
   "cell_type": "markdown",
   "id": "1f04ee98",
   "metadata": {},
   "source": [
    "Note that this reparameterization is similar to what is done to derive the conditional probability density function (pdf) of multivariate normal (MVN) distribution."
   ]
  },
  {
   "cell_type": "markdown",
   "id": "926ee340",
   "metadata": {},
   "source": [
    "$$\n",
    "\\mathbf{X} = \n",
    "\\begin{bmatrix} \n",
    "\\mathbf{X}_1 \\\\\n",
    "\\mathbf{X}_2\n",
    "\\end{bmatrix} \\sim N \\left(\n",
    "\\begin{bmatrix} \n",
    "\\boldsymbol{\\mu}_1 \\\\\n",
    "\\boldsymbol{\\mu}_2\n",
    "\\end{bmatrix},\n",
    "\\begin{bmatrix} \n",
    "\\boldsymbol \\Sigma_{11} & \\boldsymbol \\Sigma_{12} \\\\\n",
    "\\boldsymbol \\Sigma_{21} & \\boldsymbol \\Sigma_{22}\n",
    "\\end{bmatrix} \\right)\n",
    "$$"
   ]
  },
  {
   "cell_type": "markdown",
   "id": "4852f7a2",
   "metadata": {},
   "source": [
    "We reparameterize similarly as above,"
   ]
  },
  {
   "cell_type": "markdown",
   "id": "69ddcbeb",
   "metadata": {},
   "source": [
    "$$\n",
    "\\begin{bmatrix} \n",
    "\\mathbf{V}_1 \\\\\n",
    "\\mathbf{V}_2 \\end{bmatrix} =\n",
    "\\begin{bmatrix} \n",
    "\\mathbf{I} & - \\boldsymbol \\Sigma_{12} \\boldsymbol \\Sigma_{22}^{-1} \\\\\n",
    "\\mathbf{0} & \\mathbf{I}\n",
    "\\end{bmatrix} \n",
    "\\begin{bmatrix} \n",
    "\\mathbf{X}_1 \\\\\n",
    "\\mathbf{X}_2 \\end{bmatrix} \n",
    "$$"
   ]
  },
  {
   "cell_type": "markdown",
   "id": "36377097",
   "metadata": {},
   "source": [
    "which subsequently leads to "
   ]
  },
  {
   "cell_type": "markdown",
   "id": "19464d8f",
   "metadata": {},
   "source": [
    "$$\n",
    "\\mathbf{X}_1 \\mid \\mathbf{X}_2 \\sim N(\\boldsymbol \\mu_1 + \\boldsymbol \\Sigma_{12} \\boldsymbol \\Sigma^{-1}_{22} (\\mathbf{X}_2 - \\boldsymbol \\mu_2), \\boldsymbol \\Sigma_{11} - \\boldsymbol \\Sigma_{12} \\boldsymbol \\Sigma_{22}^{-1} \\boldsymbol \\Sigma_{21}).\n",
    "$$"
   ]
  },
  {
   "cell_type": "markdown",
   "id": "44e86664",
   "metadata": {},
   "source": [
    "Hence, asymptotically, $\\widehat{\\boldsymbol{\\gamma}}$ and $\\widehat{\\beta}_j$ are independent. If we also assume independent priors on $\\boldsymbol{\\gamma}$ and $\\beta_j$, under $H_1$ and $H_0$,"
   ]
  },
  {
   "cell_type": "markdown",
   "id": "c982ad6f",
   "metadata": {},
   "source": [
    "$$\n",
    "p(\\mathbf{y} \\mid H_1) = p(\\widehat{\\boldsymbol{\\gamma}}, \\widehat{\\beta}_j \\mid H_1) = \\int p(\\mathbf{y} \\mid \\boldsymbol{\\gamma}, \\beta_j) p(\\boldsymbol{\\gamma}, \\beta_j) d\\boldsymbol{\\gamma} d\\beta_j\n",
    "$$"
   ]
  },
  {
   "cell_type": "markdown",
   "id": "306d04d5",
   "metadata": {},
   "source": [
    "$$\n",
    "= \\int p(\\widehat{\\boldsymbol{\\gamma}}, \\widehat{\\beta}_j \\mid \\boldsymbol{\\gamma}, \\beta_j) p(\\boldsymbol{\\gamma}, \\beta_j) d\\boldsymbol{\\gamma} d\\beta_j = \\int p(\\widehat{\\boldsymbol{\\gamma}} \\mid \\boldsymbol{\\gamma}) p(\\boldsymbol{\\gamma}) d\\boldsymbol{\\gamma} \\cdot \\int p(\\widehat{\\beta}_j \\mid \\beta_j) p(\\beta_j) d\\beta_j\n",
    "$$"
   ]
  },
  {
   "cell_type": "markdown",
   "id": "36381d6d",
   "metadata": {},
   "source": [
    "$$\n",
    "p(\\mathbf{y} \\mid H_0) = p(\\widehat{\\boldsymbol{\\gamma}}, \\widehat{\\beta}_j \\mid H_0) = \\int p(\\mathbf{y} \\mid \\boldsymbol{\\gamma}, \\beta_j = 0) p(\\boldsymbol{\\gamma}) d\\boldsymbol{\\gamma}\n",
    "$$"
   ]
  },
  {
   "cell_type": "markdown",
   "id": "26b8f875",
   "metadata": {},
   "source": [
    "$$\n",
    "= \\int p(\\widehat{\\boldsymbol{\\gamma}}, \\widehat{\\beta}_j \\mid \\boldsymbol{\\gamma}, \\beta_j = 0) p(\\boldsymbol{\\gamma}) d\\boldsymbol{\\gamma} = \\int p(\\widehat{\\boldsymbol{\\gamma}} \\mid \\boldsymbol{\\gamma}) p(\\boldsymbol{\\gamma}) d\\boldsymbol{\\gamma} \\cdot p(\\widehat{\\beta}_j \\mid \\beta_j = 0)\n",
    "$$"
   ]
  },
  {
   "cell_type": "markdown",
   "id": "499c5af4",
   "metadata": {},
   "source": [
    "$$\n",
    "\\therefore \\text{ABF}_j  = \\frac{\\int p(\\widehat{\\beta}_j \\mid \\beta_j) p(\\beta_j) d\\beta_j}{p(\\widehat{\\beta}_j \\mid \\beta_j = 0)}\n",
    "$$"
   ]
  },
  {
   "cell_type": "markdown",
   "id": "8fd305c1",
   "metadata": {},
   "source": [
    "$$\n",
    "= \\sqrt{\\frac{s_j^2}{s_j^2 + \\sigma_b^2}} \\exp \\left[ \\frac {z^2_j}{2} \\frac{\\sigma_b^2}{s_j^2 + \\sigma_b^2}\\right]\n",
    "$$"
   ]
  },
  {
   "cell_type": "markdown",
   "id": "9b312949",
   "metadata": {},
   "source": [
    "The last equality holds after integrating out $\\beta_j$ and substituting $z_j = \\widehat{\\beta}_j / \\text{se}(\\widehat{\\beta}_j)$, $\\text{se}(\\widehat{\\beta}) = s_j$. Note that the $\\boldsymbol{\\gamma}$ terms cancel out, so there is no need to specify a prior on $\\boldsymbol{\\gamma}$."
   ]
  },
  {
   "cell_type": "markdown",
   "id": "9b005af3",
   "metadata": {},
   "source": [
    "### Interpretation\n",
    "\n",
    "1. ABF can be calculated using summary statistics.\n",
    "2. ABF is approrpriate when sample size is large, which is usually the case for GWAS.\n",
    "3. ABF is of closed form, so there is no need for multidimensional integrals.\n",
    "3. ABF does not increase monotonically with $s_j^2$. For example, when $s_j^2$ is small, which corresponds to high power, ABF for $H_1$ is small. ABF is maximum when $s_j^2 = \\sigma_b^2/(z_j^2 - 1)$.\n",
    "4. It is straightforward to combine ABF from multiple studies.\n",
    "5. Different priors on $\\beta_j$ can lead to different ABF."
   ]
  }
 ],
 "metadata": {
  "kernelspec": {
   "display_name": "Julia 1.6.0",
   "language": "julia",
   "name": "julia-1.6"
  },
  "language_info": {
   "file_extension": ".jl",
   "mimetype": "application/julia",
   "name": "julia",
   "version": "1.6.0"
  },
  "toc": {
   "base_numbering": 1,
   "nav_menu": {},
   "number_sections": false,
   "sideBar": true,
   "skip_h1_title": false,
   "title_cell": "Table of Contents",
   "title_sidebar": "Contents",
   "toc_cell": false,
   "toc_position": {},
   "toc_section_display": true,
   "toc_window_display": false
  }
 },
 "nbformat": 4,
 "nbformat_minor": 5
}
