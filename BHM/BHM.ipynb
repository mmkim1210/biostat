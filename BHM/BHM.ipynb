{
 "cells": [
  {
   "cell_type": "markdown",
   "id": "819a929b",
   "metadata": {},
   "source": [
    "# Bayesian hierarchical model with conjugate prior"
   ]
  },
  {
   "cell_type": "markdown",
   "id": "13961c61",
   "metadata": {},
   "source": [
    "**1. A generative model:**"
   ]
  },
  {
   "cell_type": "markdown",
   "id": "67c6318f",
   "metadata": {},
   "source": [
    "$$ y \\mid \\beta, \\sigma^2 \\sim N(X \\beta, \\sigma^2 V)$$"
   ]
  },
  {
   "cell_type": "markdown",
   "id": "6c326033",
   "metadata": {},
   "source": [
    "**2. Prior:**"
   ]
  },
  {
   "cell_type": "markdown",
   "id": "c8e63d9a",
   "metadata": {},
   "source": [
    "$$ \\beta \\mid \\sigma^2 \\sim N(\\mu_\\beta, \\sigma^2 V_\\beta)$$"
   ]
  },
  {
   "cell_type": "markdown",
   "id": "35d7694b",
   "metadata": {},
   "source": [
    "$$ \\sigma^2 \\sim \\text{IG}(a, b) $$"
   ]
  },
  {
   "cell_type": "markdown",
   "id": "bb8ab81a",
   "metadata": {},
   "source": [
    "**3. Posterior:**"
   ]
  },
  {
   "cell_type": "markdown",
   "id": "d8fd0239",
   "metadata": {},
   "source": [
    "$$ \\beta \\mid y, \\sigma^2 \\sim N(Mm, \\sigma^2 M)$$"
   ]
  },
  {
   "cell_type": "markdown",
   "id": "07620ace",
   "metadata": {},
   "source": [
    "$$ \\sigma^2 \\mid y \\sim \\text{IG}(a^+, b^+)$$"
   ]
  },
  {
   "cell_type": "markdown",
   "id": "91b9ade5",
   "metadata": {},
   "source": [
    "where"
   ]
  },
  {
   "cell_type": "markdown",
   "id": "f54c769a",
   "metadata": {},
   "source": [
    "$$ M^{-1} = V^{-1}_\\beta + X^T V^{-1} X $$"
   ]
  },
  {
   "cell_type": "markdown",
   "id": "d044b340",
   "metadata": {},
   "source": [
    "$$ m = V^{-1}_\\beta \\mu_\\beta + X^T V^{-1} y $$"
   ]
  },
  {
   "cell_type": "markdown",
   "id": "e30c1f26",
   "metadata": {},
   "source": [
    "$$ a^+ = a + \\frac n2 $$"
   ]
  },
  {
   "cell_type": "markdown",
   "id": "fdbdcfac",
   "metadata": {},
   "source": [
    "$$ b^+ = b + \\frac{1}{2} \\left( y^T V^{-1} y + \\mu_\\beta^T V^{-1}_\\beta \\mu_\\beta - m^T M m \\right) $$"
   ]
  },
  {
   "cell_type": "markdown",
   "id": "8697dfb4",
   "metadata": {},
   "source": [
    "### Implement in Julia"
   ]
  },
  {
   "cell_type": "code",
   "execution_count": 1,
   "id": "ea8af9e2",
   "metadata": {},
   "outputs": [
    {
     "data": {
      "text/plain": [
       "BayesLinReg (generic function with 1 method)"
      ]
     },
     "execution_count": 1,
     "metadata": {},
     "output_type": "execute_result"
    }
   ],
   "source": [
    "using Distributions\n",
    "using Random\n",
    "Random.seed!(1234)\n",
    "\n",
    "function BayesLinReg(y::Vector, X, μᵦ, Vᵦ, V, a, b, nSim)\n",
    "    # compute M, m, a⁺, b⁺\n",
    "    n, p = size(X)\n",
    "    V⁻¹ = inv(V)  # switch to Cholesky \n",
    "    Vᵦ⁻¹ = inv(Vᵦ)  # switch to Cholesky\n",
    "    M = inv(Vᵦ⁻¹ + X'*V⁻¹*X)  # switch to Cholesky\n",
    "    m = Vᵦ⁻¹*μᵦ + X'*V⁻¹*y\n",
    "    a⁺ = a + n/2\n",
    "    b⁺ = b + 1/2*(y'*V⁻¹*y + μᵦ'*Vᵦ⁻¹*μᵦ - m'*M*m)\n",
    "    # sample from posterior\n",
    "    σ²sim = zeros(nSim)\n",
    "    βsim = zeros(nSim, p)\n",
    "    for i in 1:nSim\n",
    "        # sample from p(σ²∣y)\n",
    "        σ² = rand(InverseGamma(a⁺, b⁺))\n",
    "        σ²sim = σ²\n",
    "        # sample from p(β∣y,σ²)\n",
    "        β = rand(MvNormal(M*m, σ²*M))\n",
    "        βsim[i, :] = β'\n",
    "    end\n",
    "    return σ²sim, βsim\n",
    "end"
   ]
  },
  {
   "cell_type": "markdown",
   "id": "227214a2",
   "metadata": {},
   "source": [
    "### Implement in R"
   ]
  },
  {
   "cell_type": "code",
   "execution_count": 2,
   "id": "de3d6ff9",
   "metadata": {},
   "outputs": [
    {
     "name": "stderr",
     "output_type": "stream",
     "text": [
      "┌ Warning: RCall.jl: Warning: package ‘mvtnorm’ was built under R version 4.0.2\n",
      "└ @ RCall /Users/minsookim/.julia/packages/RCall/eRsxl/src/io.jl:160\n"
     ]
    },
    {
     "data": {
      "text/plain": [
       "RObject{ClosSxp}\n",
       "function (y, X, mu.beta, V.beta.inv, a, b, nSim) \n",
       "{\n",
       "    n <- dim(X)[1]\n",
       "    p <- dim(X)[2]\n",
       "    M <- solve(V.beta.inv + t(X) %*% X)\n",
       "    m <- V.beta.inv %*% mu.beta + t(X) %*% y\n",
       "    Mm <- M %*% m\n",
       "    a_new <- a + n/2\n",
       "    b_new <- b + 1/2 * (t(y) %*% y + t(mu.beta) %*% V.beta.inv %*% \n",
       "        mu.beta - t(m) %*% Mm)\n",
       "    sigma2sim <- rep(NA, nSim)\n",
       "    betasim <- matrix(NA, nSim, p)\n",
       "    for (i in 1:nSim) {\n",
       "        sigma2 <- 1/rgamma(1, a_new, b_new)\n",
       "        sigma2sim[i] <- sigma2\n",
       "        beta <- rmvnorm(1, Mm, sigma2 * M)\n",
       "        betasim[i, ] <- beta\n",
       "    }\n",
       "    return(results = list(sigma2sim = sigma2sim, betasim = betasim))\n",
       "}\n"
      ]
     },
     "execution_count": 2,
     "metadata": {},
     "output_type": "execute_result"
    }
   ],
   "source": [
    "using RCall\n",
    "\n",
    "R\"\"\"\n",
    "library(mvtnorm)\n",
    "\n",
    "BayesLinReg <- function(y, X, mu.beta, V.beta.inv, a, b, nSim){\n",
    "    # compute M, m, a_new, b_new\n",
    "    n <- dim(X)[1]\n",
    "    p <- dim(X)[2]\n",
    "    M <- solve(V.beta.inv + t(X) %*% X)\n",
    "    m <- V.beta.inv %*% mu.beta + t(X) %*% y\n",
    "    Mm <- M %*% m\n",
    "    a_new <- a + n / 2\n",
    "    b_new <- b + 1 / 2 * (t(y) %*% y + t(mu.beta) %*% V.beta.inv %*% mu.beta - t(m) %*% Mm)\n",
    "    # sample from posterior\n",
    "    sigma2sim <- rep(NA, nSim)\n",
    "    betasim <- matrix(NA, nSim, p)\n",
    "    for (i in 1:nSim){\n",
    "        # sample sigma2\n",
    "        sigma2 <- 1 / rgamma(1, a_new, b_new)\n",
    "        sigma2sim[i] <- sigma2\n",
    "        # sample beta\n",
    "        beta <- rmvnorm(1, Mm, sigma2 * M)\n",
    "        betasim[i, ] <- beta\n",
    "    }\n",
    "    return(results = list(sigma2sim = sigma2sim, betasim = betasim))\n",
    "}\n",
    "\"\"\""
   ]
  },
  {
   "cell_type": "markdown",
   "id": "260ab512",
   "metadata": {},
   "source": [
    "### Choice of prior that leads to the posterior estimate that is the same as maximum likelihood estimate (MLE)"
   ]
  },
  {
   "cell_type": "markdown",
   "id": "02dc85ef",
   "metadata": {},
   "source": [
    "Suppose $\\boldsymbol{V} = \\mathbf{I}_n$ and $\\tilde{\\boldsymbol{y}} \\mid \\boldsymbol{\\beta}, \\sigma^2, \\boldsymbol{y} \\sim N(\\tilde{\\boldsymbol{X}} \\boldsymbol{\\beta}, \\sigma^2 \\mathbf{I}_m)$."
   ]
  },
  {
   "cell_type": "markdown",
   "id": "a948f8e7",
   "metadata": {},
   "source": [
    "We need to find $a, b, \\boldsymbol{V}^{-1}_\\beta$ such that $\\boldsymbol{\\beta} \\mid \\boldsymbol{y}, \\sigma^2 \\sim N(Mm, \\sigma^2 M) = N(\\hat{\\boldsymbol{\\beta}}, \\sigma^2 (\\boldsymbol{X}^T \\boldsymbol{X})^{-1})$, where $\\hat{\\boldsymbol{\\beta}} = (\\boldsymbol{X}^T \\boldsymbol{X})^{-1} \\boldsymbol{X}^T \\boldsymbol{y}$. If we let $\\boldsymbol{V}^{-1}_\\beta = \\mathbf{0}_{p \\times p}$ such that non-informative prior is used and the data (i.e. likelihood) dictates the parameter estimation, then $M^{-1} = \\boldsymbol{X^T} \\boldsymbol{X}$, $M m = \\hat{\\boldsymbol{\\beta}}$."
   ]
  },
  {
   "cell_type": "markdown",
   "id": "33099acf",
   "metadata": {},
   "source": [
    "$$\n",
    "\\text{E}[\\sigma^2 \\mid \\boldsymbol{y}] = \\frac{b^+}{a^+ - 1} (\\because \\sigma^2 \\mid \\boldsymbol{y} \\sim \\text{IG}(a^+, b^+)\n",
    "$$"
   ]
  },
  {
   "cell_type": "markdown",
   "id": "9095d346",
   "metadata": {},
   "source": [
    "$$\n",
    "= \\frac{b + \\frac{1}{2} (\\boldsymbol{y}^T \\boldsymbol{y} - m^T M m)}{a + \\frac{n}{2} - 1}\n",
    "$$"
   ]
  },
  {
   "cell_type": "markdown",
   "id": "cb01d5c8",
   "metadata": {},
   "source": [
    "$$\n",
    "= \\frac{b + \\frac{1}{2} (\\boldsymbol{y} - \\boldsymbol{X} \\hat{\\boldsymbol{\\beta}})^T (\\boldsymbol{y} - \\boldsymbol{X} \\hat{\\boldsymbol{\\beta}})}{a + \\frac{n}{2} - 1}\n",
    "$$"
   ]
  },
  {
   "cell_type": "markdown",
   "id": "991b91da",
   "metadata": {},
   "source": [
    "$\\hat{\\sigma}^2$ from frequentist approach is $\\frac{(\\boldsymbol{y} - \\boldsymbol{X} \\hat{\\boldsymbol{\\beta}})^T (\\boldsymbol{y} - \\boldsymbol{X} \\hat{\\boldsymbol{\\beta}})}{n - p}$, so there are numerous $a, b$ that can equate the two, one being $a = 1- \\frac{p}{2}, b = 0$."
   ]
  },
  {
   "cell_type": "markdown",
   "id": "99ab38c8",
   "metadata": {},
   "source": [
    "To compute $\\text{Var}(\\tilde{\\boldsymbol{y}} \\mid \\sigma^2, \\boldsymbol{y})$,"
   ]
  },
  {
   "cell_type": "markdown",
   "id": "0fc0f11c",
   "metadata": {},
   "source": [
    "$$\n",
    "\\tilde{\\boldsymbol{y}}, \\boldsymbol{\\beta} \\mid \\sigma^2, \\boldsymbol{y} \\propto e^{-\\frac{1}{2\\sigma^2}[(\\tilde{\\boldsymbol{y}} - \\tilde{\\boldsymbol{X}} \\boldsymbol{\\beta})^T (\\tilde{\\boldsymbol{y}} - \\tilde{\\boldsymbol{X}} \\boldsymbol{\\beta}) + (\\boldsymbol{\\beta} - \\hat{\\boldsymbol{\\beta}})^T \\boldsymbol{X}^T \\boldsymbol{X}(\\boldsymbol{\\beta} - \\hat{\\boldsymbol{\\beta}})]}\n",
    "$$"
   ]
  },
  {
   "cell_type": "markdown",
   "id": "3f473c67",
   "metadata": {},
   "source": [
    "Tracking $\\boldsymbol{\\beta}$ to integrate it out,"
   ]
  },
  {
   "cell_type": "markdown",
   "id": "cff36b47",
   "metadata": {},
   "source": [
    "$$ \n",
    "\\boldsymbol{\\beta}^T (\\tilde{\\boldsymbol{X}}^T \\tilde{\\boldsymbol{X}} + \\boldsymbol{X}^T \\boldsymbol{X}) \\boldsymbol{\\beta} - 2 (\\tilde{\\boldsymbol{y}}^T \\tilde{\\boldsymbol{X}} + \\hat{\\boldsymbol{\\beta}}^T \\boldsymbol{X}^T \\boldsymbol{X}) \\boldsymbol{\\beta}\n",
    "$$"
   ]
  },
  {
   "cell_type": "markdown",
   "id": "93ef51ea",
   "metadata": {},
   "source": [
    "$$\n",
    "= [\\boldsymbol{\\beta} - (\\tilde{\\boldsymbol{X}}^T \\tilde{\\boldsymbol{X}} + \\boldsymbol{X}^T \\boldsymbol{X})^{-1}(\\boldsymbol{X}^T \\boldsymbol{X} \\hat{\\boldsymbol{\\beta}} + \\tilde{\\boldsymbol{X}}^T \\tilde{\\boldsymbol{y}})]^T \n",
    "(\\tilde{\\boldsymbol{X}}^T \\tilde{\\boldsymbol{X}} + \\boldsymbol{X}^T \\boldsymbol{X})\n",
    "[\\boldsymbol{\\beta} - (\\tilde{\\boldsymbol{X}}^T \\tilde{\\boldsymbol{X}} + \\boldsymbol{X}^T \\boldsymbol{X})^{-1}(\\boldsymbol{X}^T \\boldsymbol{X} \\hat{\\boldsymbol{\\beta}} + \\tilde{\\boldsymbol{X}}^T \\tilde{\\boldsymbol{y}})]\n",
    "$$"
   ]
  },
  {
   "cell_type": "markdown",
   "id": "1237d249",
   "metadata": {},
   "source": [
    "$$ \n",
    "- (\\boldsymbol{X}^T \\boldsymbol{X} \\hat{\\boldsymbol{\\beta}} + \\tilde{\\boldsymbol{X}}^T \\tilde{\\boldsymbol{y}})^T \n",
    "(\\tilde{\\boldsymbol{X}}^T \\tilde{\\boldsymbol{X}} + \\boldsymbol{X}^T \\boldsymbol{X})^{-1}\n",
    "(\\boldsymbol{X}^T \\boldsymbol{X} \\hat{\\boldsymbol{\\beta}} + \\tilde{\\boldsymbol{X}}^T \\tilde{\\boldsymbol{y}})\n",
    "$$"
   ]
  },
  {
   "cell_type": "markdown",
   "id": "f5a6c996",
   "metadata": {},
   "source": [
    "After integrating with respect to $\\boldsymbol{\\beta}$,"
   ]
  },
  {
   "cell_type": "markdown",
   "id": "57003658",
   "metadata": {},
   "source": [
    "$$\n",
    "\\tilde{\\boldsymbol{y}} \\mid \\sigma^2, \\boldsymbol{y} \\propto\n",
    "e^{-\\frac{1}{2\\sigma^2} \\tilde{\\boldsymbol{y}}^T [\\mathbf{I}_m - \\tilde{\\boldsymbol{X}} (\\tilde{\\boldsymbol{X}}^T \\tilde{\\boldsymbol{X}} + \\boldsymbol{X}^T \\boldsymbol{X})^{-1} \\tilde{\\boldsymbol{X}}^T] \\tilde{\\boldsymbol{y}} - 2 \\tilde{\\boldsymbol{y}}^T \\tilde{\\boldsymbol{X}} (\\tilde{\\boldsymbol{X}}^T \\tilde{\\boldsymbol{X}} + \\boldsymbol{X}^T \\boldsymbol{X})^{-1}\\boldsymbol{X}^T \\boldsymbol{X}\\hat{\\boldsymbol{\\beta}}} \n",
    "$$"
   ]
  },
  {
   "cell_type": "markdown",
   "id": "ba9fc2e3",
   "metadata": {},
   "source": [
    "$$\n",
    "\\therefore \\tilde{\\boldsymbol{y}} \\mid \\sigma^2, \\boldsymbol{y} \\sim N([\\mathbf{I}_m + \\tilde{\\boldsymbol{X}} (\\tilde{\\boldsymbol{X}}^T \\tilde{\\boldsymbol{X}} + \\boldsymbol{X}^T \\boldsymbol{X})^{-1} \\tilde{\\boldsymbol{X}}^T]^{-1} \\tilde{\\boldsymbol{X}} (\\tilde{\\boldsymbol{X}}^T \\tilde{\\boldsymbol{X}} + \\boldsymbol{X}^T \\boldsymbol{X})^{-1}\\boldsymbol{X}^T \\boldsymbol{X}\\hat{\\boldsymbol{\\beta}}, \\sigma^2 [\\mathbf{I}_m - \\tilde{\\boldsymbol{X}} (\\tilde{\\boldsymbol{X}}^T \\tilde{\\boldsymbol{X}} + \\boldsymbol{X}^T \\boldsymbol{X})^{-1} \\tilde{\\boldsymbol{X}}^T]^{-1})\n",
    "$$"
   ]
  },
  {
   "cell_type": "markdown",
   "id": "bcb68f25",
   "metadata": {},
   "source": [
    "$\\text{Var}(\\tilde{\\boldsymbol{y}} \\mid \\sigma^2, \\boldsymbol{y}) = \\sigma^2 [\\mathbf{I}_m - \\tilde{\\boldsymbol{X}} (\\tilde{\\boldsymbol{X}}^T \\tilde{\\boldsymbol{X}} + \\boldsymbol{X}^T \\boldsymbol{X})^{-1} \\tilde{\\boldsymbol{X}}^T]^{-1}$ for Bayesian approach. Using the binomial inversion formula, it can be further expanded to $\\sigma^2 [\\mathbf{I}_m + \\tilde{\\boldsymbol{X}} (\\boldsymbol{X}^T \\boldsymbol{X})^{-1} \\tilde{\\boldsymbol{X}}^T]$. Alternatively, $\\text{Var}(\\tilde{\\boldsymbol{y}} \\mid \\sigma^2, \\boldsymbol{y})$ can be calculated as follows,"
   ]
  },
  {
   "cell_type": "markdown",
   "id": "a02fd37e",
   "metadata": {},
   "source": [
    "$$\n",
    "\\tilde{\\boldsymbol{y}} = \\tilde{\\boldsymbol{X}} {\\boldsymbol{\\beta}} + \\boldsymbol{\\epsilon}\n",
    "$$"
   ]
  },
  {
   "cell_type": "markdown",
   "id": "1d3e0abc",
   "metadata": {},
   "source": [
    "$$\n",
    "\\text{Var}(\\tilde{\\boldsymbol{y}}) = \\tilde{\\boldsymbol{X}} \\text{Var}({\\boldsymbol{\\beta}}) \\tilde{\\boldsymbol{X}}^T + \\sigma^2 \\mathbf{I}_m = \\sigma^2 [\\mathbf{I}_m + \\tilde{\\boldsymbol{X}} (\\boldsymbol{X}^T \\boldsymbol{X})^{-1} \\tilde{\\boldsymbol{X}}^T],\n",
    "$$"
   ]
  },
  {
   "cell_type": "markdown",
   "id": "a3049ad7",
   "metadata": {},
   "source": [
    "which yields the same result as above and as that from frequentist approach."
   ]
  }
 ],
 "metadata": {
  "kernelspec": {
   "display_name": "Julia 1.6.0",
   "language": "julia",
   "name": "julia-1.6"
  },
  "language_info": {
   "file_extension": ".jl",
   "mimetype": "application/julia",
   "name": "julia",
   "version": "1.6.0"
  },
  "toc": {
   "base_numbering": 1,
   "nav_menu": {},
   "number_sections": true,
   "sideBar": true,
   "skip_h1_title": false,
   "title_cell": "Table of Contents",
   "title_sidebar": "Contents",
   "toc_cell": false,
   "toc_position": {},
   "toc_section_display": true,
   "toc_window_display": false
  }
 },
 "nbformat": 4,
 "nbformat_minor": 5
}
